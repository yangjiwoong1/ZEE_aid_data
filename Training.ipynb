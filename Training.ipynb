{
 "cells": [
  {
   "cell_type": "markdown",
   "metadata": {},
   "source": [
    "# Training AID dataset by SRCNN\n",
    "\n",
    "- reference code: https://github.com/worldstrat/worldstrat.git"
   ]
  },
  {
   "cell_type": "code",
   "execution_count": null,
   "metadata": {},
   "outputs": [],
   "source": [
    "%load_ext autoreload\n",
    "%autoreload 2\n",
    "from src.train import *\n",
    "import sys"
   ]
  },
  {
   "cell_type": "code",
   "execution_count": null,
   "metadata": {},
   "outputs": [],
   "source": [
    "default_train_command = [\n",
    "    # Batch size, gpus, limits\n",
    "    \"train.py\",\n",
    "    \"--batch_size\", \"16\", \n",
    "    \"--accelerator\", \"gpu\",\n",
    "    \"--devices\", \"1\",\n",
    "    \"--max_steps\", \"10000\",\n",
    "    \"--precision\", \"16\",\n",
    "    \"--num_workers\", \"0\",\n",
    "\n",
    "    # Model/Hyperparameters\n",
    "    \"--model\", \"SRCNN\", # must be uppercase\n",
    "    \"--w_mse\", \"0.3\",\n",
    "    \"--w_mae\", \"0.4\",\n",
    "    \"--w_ssim\", \"0.3\",\n",
    "    \"--hidden_channels\", \"256\",\n",
    "    \"--residual_layers\", \"8\",\n",
    "    \"--padding_mode\", \"reflect\",\n",
    "    \"--sr_kernel_size\", \"5\",\n",
    "    # \"--use_dropout\",\n",
    "    # \"--use_batchnorm\",\n",
    "    \"--learning_rate\", \"1e-3\",\n",
    "\n",
    "    # Data\n",
    "    \"--root\", \"AID-dataset/\",\n",
    "    \"--zoom_factor\", \"4\", # 모델에 영향\n",
    "    \"--output_size\", \"600\", \"600\",\n",
    "    \"--chip_size\", \"600\", \"600\",\n",
    "    \"--chip_stride\", \"600\", \"600\",\n",
    "    \"--randomly_rotate_and_flip_images\",\n",
    "    \"--shuffle\",\n",
    "    \"--subset_train\", \"0.6\",\n",
    "\n",
    "    # logging\n",
    "    \"--use_wandb\",\n",
    "    # \"--benchmark_logging\", # require enable wandb\n",
    "    \"--upload_checkpoint\",\n",
    "\n",
    "    # early stopping\n",
    "    \"--early_stop\",\n",
    "    \"--early_stop_patience\", \"8\",\n",
    "    \"--early_stop_min_delta\", \"0.001\",\n",
    "]\n",
    "\n",
    "def run_training_command(training_command, running_on_windows=True):\n",
    "    sys.argv = training_command\n",
    "    if running_on_windows:\n",
    "        sys.argv += [\"--num_workers\", \"0\"] # 윈도우에서는 멀티프로세싱 비효율(than linux)\n",
    "    cli_main()"
   ]
  },
  {
   "cell_type": "markdown",
   "metadata": {},
   "source": [
    "### Training a single model"
   ]
  },
  {
   "cell_type": "code",
   "execution_count": null,
   "metadata": {},
   "outputs": [],
   "source": [
    "run_training_command(default_train_command, running_on_windows=False)"
   ]
  }
 ],
 "metadata": {
  "kernelspec": {
   "display_name": "worldstrat",
   "language": "python",
   "name": "python3"
  },
  "language_info": {
   "codemirror_mode": {
    "name": "ipython",
    "version": 3
   },
   "file_extension": ".py",
   "mimetype": "text/x-python",
   "name": "python",
   "nbconvert_exporter": "python",
   "pygments_lexer": "ipython3",
   "version": "3.9.19"
  },
  "orig_nbformat": 4,
  "vscode": {
   "interpreter": {
    "hash": "baca3009b4d682dcab5112255c43ce6cf840011b57f9a9f1cb26993b30d438e0"
   }
  }
 },
 "nbformat": 4,
 "nbformat_minor": 2
}
