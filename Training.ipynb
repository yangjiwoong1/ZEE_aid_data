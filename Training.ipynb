{
 "cells": [
  {
   "cell_type": "markdown",
   "metadata": {},
   "source": [
    "# Training AID dataset by SRCNN\n",
    "\n",
    "- reference code: https://github.com/worldstrat/worldstrat.git"
   ]
  },
  {
   "cell_type": "code",
   "execution_count": 1,
   "metadata": {},
   "outputs": [],
   "source": [
    "%load_ext autoreload\n",
    "%autoreload 2\n",
    "from src.train import *\n",
    "import sys"
   ]
  },
  {
   "cell_type": "code",
   "execution_count": null,
   "metadata": {},
   "outputs": [],
   "source": [
    "default_train_command = [\n",
    "    # Batch size, gpus, limits\n",
    "    \"python\",\n",
    "    \"--batch_size\", \"16\", \n",
    "    \"--gpus\", \"-1\",\n",
    "    \"--max_steps\", \"50000\",\n",
    "    \"--precision\", \"16\",\n",
    "    \"--num_workers\", 0,\n",
    "\n",
    "    # Model/Hyperparameters\n",
    "    \"--model\", \"SRCNN\", # must be uppercase\n",
    "    \"--w_mse\", \"0.3\",\n",
    "    \"--w_mae\", \"0.4\",\n",
    "    \"--w_ssim\", \"0.3\",\n",
    "    \"--hidden_channels\", \"64\",\n",
    "    \"--residual_layers\", \"4\",\n",
    "    \"--padding_mode\", \"reflect\",\n",
    "    \"--sr_kernel_size\", \"1\",\n",
    "    \"--use_dropout\", \"False\",\n",
    "    \"--use_batchnorm\", \"False\",\n",
    "    \"--learning_rate\", \"1e-4\",\n",
    "\n",
    "    # Data\n",
    "    \"--root\", \"AID-dataset/\",\n",
    "    \"--zoom_factor\", \"4\", # 모델에 영향\n",
    "    \"--output_size\", \"600\", \"600\",\n",
    "    \"--chip_size\", \"600\", \"600\",\n",
    "    \"--chip_stride\", \"600\", \"600\",\n",
    "    \"--randomly_rotate_and_flip_images\", True,\n",
    "    \"--shuffle\", True,\n",
    "    \"--subset_train\", 1.0,\n",
    "\n",
    "    \"--use_wandb\", True,\n",
    "    \"--benchmark\", True,\n",
    "    \"--upload_checkpoint\", False,\n",
    "]\n",
    "\n",
    "def run_training_command(training_command, running_on_windows=True):\n",
    "    sys.argv = training_command\n",
    "    if running_on_windows:\n",
    "        sys.argv += [\"--num_workers\", \"0\"] # 윈도우에서는 멀티프로세싱 비효율(than linux)\n",
    "    cli_main()"
   ]
  },
  {
   "cell_type": "markdown",
   "metadata": {},
   "source": [
    "### Training a single model"
   ]
  },
  {
   "cell_type": "code",
   "execution_count": null,
   "metadata": {},
   "outputs": [
    {
     "name": "stderr",
     "output_type": "stream",
     "text": [
      "Global seed set to 1337\n",
      "\u001b[34m\u001b[1mwandb\u001b[0m: Logging into wandb.ai. (Learn how to deploy a W&B server locally: https://wandb.me/wandb-server)\n",
      "\u001b[34m\u001b[1mwandb\u001b[0m: You can find your API key in your browser here: https://wandb.ai/authorize?ref=models\n",
      "\u001b[34m\u001b[1mwandb\u001b[0m: Paste an API key from your profile and hit enter:"
     ]
    }
   ],
   "source": [
    "run_training_command(default_train_command, running_on_windows=False)"
   ]
  },
  {
   "cell_type": "markdown",
   "metadata": {},
   "source": [
    "### Reproducing the benchmark"
   ]
  },
  {
   "cell_type": "code",
   "execution_count": null,
   "metadata": {},
   "outputs": [],
   "source": [
    "benchmark_random_seeds = [431608443, 122938034, 315114726]\n",
    "benchmark_data_seed = 386564310\n",
    "\n",
    "# HighResNet triple replicates\n",
    "highresnet_replicates = [\n",
    "    default_train_command \n",
    "    + [\"--data_split_seed\", str(benchmark_data_seed)]\n",
    "    + [\"--seed\", str(seed)] \n",
    "    for seed in benchmark_random_seeds\n",
    "]\n",
    "\n",
    "# SRCNN MultiFrame triple replicates\n",
    "# Change model to SRCNN\n",
    "\n",
    "default_train_command[10] = 'srcnn'\n",
    "srcnn_multiframe_replicates = [\n",
    "    default_train_command \n",
    "    + [\"--data_split_seed\", str(benchmark_data_seed)]\n",
    "    + [\"--seed\", str(seed)] \n",
    "    for seed in benchmark_random_seeds\n",
    "]\n",
    "\n",
    "# SRCNN Single Image triple replicates\n",
    "# Change number of revisits to 1\n",
    "default_train_command[34] = '1'\n",
    "srcnn_single_image_replicates = [\n",
    "    default_train_command \n",
    "    + [\"--data_split_seed\", str(benchmark_data_seed)]\n",
    "    + [\"--seed\", str(seed)] \n",
    "    for seed in benchmark_random_seeds\n",
    "]"
   ]
  },
  {
   "cell_type": "code",
   "execution_count": null,
   "metadata": {},
   "outputs": [],
   "source": [
    "for replicates in [highresnet_replicates, srcnn_multiframe_replicates, srcnn_single_image_replicates]:\n",
    "    for replicate_training_command in replicates:\n",
    "        run_training_command(replicate_training_command, running_on_windows=True)"
   ]
  }
 ],
 "metadata": {
  "kernelspec": {
   "display_name": "worldstrat",
   "language": "python",
   "name": "python3"
  },
  "language_info": {
   "codemirror_mode": {
    "name": "ipython",
    "version": 3
   },
   "file_extension": ".py",
   "mimetype": "text/x-python",
   "name": "python",
   "nbconvert_exporter": "python",
   "pygments_lexer": "ipython3",
   "version": "3.9.19"
  },
  "orig_nbformat": 4,
  "vscode": {
   "interpreter": {
    "hash": "baca3009b4d682dcab5112255c43ce6cf840011b57f9a9f1cb26993b30d438e0"
   }
  }
 },
 "nbformat": 4,
 "nbformat_minor": 2
}
